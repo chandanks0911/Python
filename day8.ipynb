{
 "cells": [
  {
   "cell_type": "markdown",
   "metadata": {},
   "source": [
    "WA function to find maximum of three numbers in python."
   ]
  },
  {
   "cell_type": "code",
   "execution_count": 2,
   "metadata": {},
   "outputs": [
    {
     "data": {
      "text/plain": [
       "\"9 +' is max'\""
      ]
     },
     "execution_count": 2,
     "metadata": {},
     "output_type": "execute_result"
    }
   ],
   "source": [
    "def max_no(a, b, c):\n",
    "    if a>b and a>c:\n",
    "        return f\"{a} is max\"\n",
    "    elif b>a and b>c:\n",
    "        return f\"{b} is max\"\n",
    "    else:\n",
    "        return f\"{c} is max\"\n",
    "    \n",
    "max_no(2, 9, 8)"
   ]
  },
  {
   "cell_type": "markdown",
   "metadata": {},
   "source": [
    "WAF to create and print a list where the values are square of numbers between 1 and 30."
   ]
  },
  {
   "cell_type": "code",
   "execution_count": 6,
   "metadata": {},
   "outputs": [
    {
     "data": {
      "text/plain": [
       "[1,\n",
       " 4,\n",
       " 9,\n",
       " 16,\n",
       " 25,\n",
       " 36,\n",
       " 49,\n",
       " 64,\n",
       " 81,\n",
       " 100,\n",
       " 121,\n",
       " 144,\n",
       " 169,\n",
       " 196,\n",
       " 225,\n",
       " 256,\n",
       " 289,\n",
       " 324,\n",
       " 361,\n",
       " 400,\n",
       " 441,\n",
       " 484,\n",
       " 529,\n",
       " 576,\n",
       " 625,\n",
       " 676,\n",
       " 729,\n",
       " 784,\n",
       " 841,\n",
       " 900]"
      ]
     },
     "execution_count": 6,
     "metadata": {},
     "output_type": "execute_result"
    }
   ],
   "source": [
    "def list_of_squares():\n",
    "    l = []\n",
    "    for i in range(1, 31):\n",
    "        l.append(i**2)\n",
    "    return l\n",
    "list_of_squares()"
   ]
  },
  {
   "cell_type": "markdown",
   "metadata": {},
   "source": [
    "WAF that takes a number as a parameter and check if the number is prime or not."
   ]
  },
  {
   "cell_type": "code",
   "execution_count": 9,
   "metadata": {},
   "outputs": [
    {
     "data": {
      "text/plain": [
       "'3 is a prime'"
      ]
     },
     "execution_count": 9,
     "metadata": {},
     "output_type": "execute_result"
    }
   ],
   "source": [
    "def prime_check(n):\n",
    "    cnt = 0\n",
    "    for i in range(2, n):\n",
    "        if n%i == 0:\n",
    "            cnt += 1\n",
    "    if cnt > 0:\n",
    "        return f\"{n} is not a prime\"\n",
    "    else:\n",
    "        return f\"{n} is a prime\"\n",
    "\n",
    "prime_check(3)"
   ]
  },
  {
   "cell_type": "markdown",
   "metadata": {},
   "source": [
    "WAF to sum all the numbers in a list."
   ]
  },
  {
   "cell_type": "code",
   "execution_count": 12,
   "metadata": {},
   "outputs": [
    {
     "data": {
      "text/plain": [
       "17"
      ]
     },
     "execution_count": 12,
     "metadata": {},
     "output_type": "execute_result"
    }
   ],
   "source": [
    "def sum_no(l):\n",
    "    sum = 0\n",
    "    for i in l:\n",
    "        sum += i\n",
    "    return sum\n",
    "\n",
    "l = [2, 3, 5, 7]\n",
    "sum_no(l)"
   ]
  },
  {
   "cell_type": "code",
   "execution_count": 32,
   "metadata": {},
   "outputs": [
    {
     "data": {
      "text/plain": [
       "17"
      ]
     },
     "execution_count": 32,
     "metadata": {},
     "output_type": "execute_result"
    }
   ],
   "source": [
    "#using recursion\n",
    "def sum_in_list(l):\n",
    "    if len(l)>1:\n",
    "        return l[0] + sum_in_list(l[1:])\n",
    "    else:\n",
    "        return l[0]\n",
    "\n",
    "l = [2, 3, 5, 7]\n",
    "sum_in_list(l)"
   ]
  },
  {
   "cell_type": "markdown",
   "metadata": {},
   "source": [
    "WAP to solve the fibonacci sequence using recursion."
   ]
  },
  {
   "cell_type": "code",
   "execution_count": 15,
   "metadata": {},
   "outputs": [
    {
     "data": {
      "text/plain": [
       "[0, 1, 1, 2, 3, 5, 8, 13, 21, 34]"
      ]
     },
     "execution_count": 15,
     "metadata": {},
     "output_type": "execute_result"
    }
   ],
   "source": [
    "def fibonacci_series_upto(n):\n",
    "    a = 0\n",
    "    b = 1\n",
    "    l = []\n",
    "    l.append(a)\n",
    "    l.append(b)\n",
    "    for i in range(n-2):\n",
    "        c = a+b\n",
    "        l.append(c)\n",
    "        a, b = b, c\n",
    "    return l\n",
    "fibonacci_series_upto(10)"
   ]
  },
  {
   "cell_type": "code",
   "execution_count": 24,
   "metadata": {},
   "outputs": [
    {
     "data": {
      "text/plain": [
       "[0, 1, 1, 2, 3, 5, 8, 13, 21, 34]"
      ]
     },
     "execution_count": 24,
     "metadata": {},
     "output_type": "execute_result"
    }
   ],
   "source": [
    "def fibo(n):\n",
    "    l = [0, 1]\n",
    "    a = len(l)\n",
    "    while a<n:\n",
    "        l.append(l[a-2]+l[a-1])\n",
    "        a += 1\n",
    "    return l\n",
    "fibo(10)"
   ]
  },
  {
   "cell_type": "code",
   "execution_count": 28,
   "metadata": {},
   "outputs": [
    {
     "name": "stdout",
     "output_type": "stream",
     "text": [
      "0\n",
      "1\n",
      "1\n",
      "2\n",
      "3\n",
      "5\n",
      "8\n",
      "13\n",
      "21\n",
      "34\n"
     ]
    }
   ],
   "source": [
    "def fibona(n, a=0, b=1):\n",
    "    if n:\n",
    "        print(a)\n",
    "        return fibona(n-1, b, a+b)\n",
    "    \n",
    "fibona(10)\n"
   ]
  }
 ],
 "metadata": {
  "kernelspec": {
   "display_name": "Python 3",
   "language": "python",
   "name": "python3"
  },
  "language_info": {
   "codemirror_mode": {
    "name": "ipython",
    "version": 3
   },
   "file_extension": ".py",
   "mimetype": "text/x-python",
   "name": "python",
   "nbconvert_exporter": "python",
   "pygments_lexer": "ipython3",
   "version": "3.12.1"
  }
 },
 "nbformat": 4,
 "nbformat_minor": 2
}
