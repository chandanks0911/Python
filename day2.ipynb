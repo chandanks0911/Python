{
 "cells": [
  {
   "cell_type": "markdown",
   "metadata": {},
   "source": [
    "WAP to check if a number is positive."
   ]
  },
  {
   "cell_type": "code",
   "execution_count": 1,
   "metadata": {},
   "outputs": [
    {
     "name": "stdout",
     "output_type": "stream",
     "text": [
      "positive\n"
     ]
    }
   ],
   "source": [
    "n = eval(input('Enter a number: '))\n",
    "if n>=0:\n",
    "    print('positive')\n",
    "else:\n",
    "    print('Negative')"
   ]
  },
  {
   "cell_type": "markdown",
   "metadata": {},
   "source": [
    "WAP to check wheather a number is odd or even."
   ]
  },
  {
   "cell_type": "code",
   "execution_count": 2,
   "metadata": {},
   "outputs": [
    {
     "name": "stdout",
     "output_type": "stream",
     "text": [
      "Odd\n"
     ]
    }
   ],
   "source": [
    "n = eval(input('Enter a number: '))\n",
    "if n%2 == 0:\n",
    "    print('Even')\n",
    "else:\n",
    "    print('Odd')"
   ]
  },
  {
   "cell_type": "markdown",
   "metadata": {},
   "source": [
    "WAP to create area calculator."
   ]
  },
  {
   "cell_type": "code",
   "execution_count": 6,
   "metadata": {},
   "outputs": [
    {
     "name": "stdout",
     "output_type": "stream",
     "text": [
      "*****Area Calculator*****\n",
      "Press 1 for area for Circle \n",
      " Press 2 for area for Rectangle \n",
      " Press 3 for area for Square \n",
      " Press 4 for area for Triangle \n",
      " \n",
      "Area is 16.0\n"
     ]
    }
   ],
   "source": [
    "print('*****Area Calculator*****')\n",
    "print('Press 1 for area for Circle \\n Press 2 for area for Rectangle \\n Press 3 for area for Square \\n Press 4 for area for Triangle \\n ')\n",
    "\n",
    "ch = int(input())\n",
    "\n",
    "if ch == 1:\n",
    "    r = float(input(\"Enter value of radius: \"))\n",
    "    res = 22/7*r*r\n",
    "elif ch == 2:\n",
    "    l = float(input(\"Enter value of length: \"))\n",
    "    b = float(input(\"Enter value of width: \"))\n",
    "    res = l*b\n",
    "elif ch == 3:\n",
    "    s = float(input(\"Enter value of side: \"))\n",
    "    res = pow(s,2)\n",
    "elif ch == 4:\n",
    "    b = float(input(\"Enter value of base: \"))\n",
    "    h = float(input(\"Enter value of height: \"))\n",
    "    res = b*h\n",
    "else:\n",
    "    print('Enter valid option!!!!!!')\n",
    "\n",
    "print('Area is', res)"
   ]
  },
  {
   "cell_type": "markdown",
   "metadata": {},
   "source": [
    "WAP to check wheather the passed letter is vowel or not"
   ]
  },
  {
   "cell_type": "code",
   "execution_count": 7,
   "metadata": {},
   "outputs": [
    {
     "name": "stdout",
     "output_type": "stream",
     "text": [
      "Consonant\n"
     ]
    }
   ],
   "source": [
    "let = input(\"Enter a letter: \")\n",
    "if let in 'AEIOUaeiou':\n",
    "    print('Vowel')\n",
    "else:\n",
    "    print('Consonant')"
   ]
  },
  {
   "cell_type": "markdown",
   "metadata": {},
   "source": [
    "WAP to check a number id single digit number or 2-digit number or so on....upto 5 digit."
   ]
  },
  {
   "cell_type": "code",
   "execution_count": 8,
   "metadata": {},
   "outputs": [
    {
     "name": "stdout",
     "output_type": "stream",
     "text": [
      "3\n"
     ]
    }
   ],
   "source": [
    "num = int(input('Enter a number: '))\n",
    "cnt = 0\n",
    "while num:\n",
    "    cnt += 1\n",
    "    num //= 10\n",
    "print(cnt)"
   ]
  }
 ],
 "metadata": {
  "kernelspec": {
   "display_name": "Python 3",
   "language": "python",
   "name": "python3"
  },
  "language_info": {
   "codemirror_mode": {
    "name": "ipython",
    "version": 3
   },
   "file_extension": ".py",
   "mimetype": "text/x-python",
   "name": "python",
   "nbconvert_exporter": "python",
   "pygments_lexer": "ipython3",
   "version": "3.12.1"
  }
 },
 "nbformat": 4,
 "nbformat_minor": 2
}
