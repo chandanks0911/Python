{
 "cells": [
  {
   "cell_type": "markdown",
   "metadata": {},
   "source": [
    "WAP to find a sum all even numbers up to 50."
   ]
  },
  {
   "cell_type": "code",
   "execution_count": 4,
   "metadata": {},
   "outputs": [
    {
     "name": "stdout",
     "output_type": "stream",
     "text": [
      "650\n"
     ]
    }
   ],
   "source": [
    "sum = 0\n",
    "for i in range(1, 51):\n",
    "    if i%2 == 0:\n",
    "        sum += i\n",
    "print(sum)"
   ]
  },
  {
   "cell_type": "markdown",
   "metadata": {},
   "source": [
    "WAP to print first 20 numbers and their squares."
   ]
  },
  {
   "cell_type": "code",
   "execution_count": 6,
   "metadata": {},
   "outputs": [
    {
     "name": "stdout",
     "output_type": "stream",
     "text": [
      "Number        Square\n",
      "1 \t\t 1\n",
      "2 \t\t 4\n",
      "3 \t\t 9\n",
      "4 \t\t 16\n",
      "5 \t\t 25\n",
      "6 \t\t 36\n",
      "7 \t\t 49\n",
      "8 \t\t 64\n",
      "9 \t\t 81\n",
      "10 \t\t 100\n",
      "11 \t\t 121\n",
      "12 \t\t 144\n",
      "13 \t\t 169\n",
      "14 \t\t 196\n",
      "15 \t\t 225\n",
      "16 \t\t 256\n",
      "17 \t\t 289\n",
      "18 \t\t 324\n",
      "19 \t\t 361\n",
      "20 \t\t 400\n"
     ]
    }
   ],
   "source": [
    "print('Number        Square')\n",
    "for i in range(1, 21):\n",
    "    print(i,'\\t\\t',pow(i,2))"
   ]
  },
  {
   "cell_type": "markdown",
   "metadata": {},
   "source": [
    "WAP to find sum of first 10 odd numbers using while loop."
   ]
  },
  {
   "cell_type": "code",
   "execution_count": 15,
   "metadata": {},
   "outputs": [
    {
     "name": "stdout",
     "output_type": "stream",
     "text": [
      "100\n"
     ]
    }
   ],
   "source": [
    "sum = 0\n",
    "i = 1\n",
    "while i<20:\n",
    "    sum += i\n",
    "    i+=2\n",
    "print(sum)"
   ]
  },
  {
   "cell_type": "markdown",
   "metadata": {},
   "source": [
    "WAP to check if a number is divisible by 8 and 12 up to 100 numbers."
   ]
  },
  {
   "cell_type": "code",
   "execution_count": 16,
   "metadata": {},
   "outputs": [
    {
     "name": "stdout",
     "output_type": "stream",
     "text": [
      "24 is divisible\n",
      "48 is divisible\n",
      "72 is divisible\n",
      "96 is divisible\n"
     ]
    }
   ],
   "source": [
    "for i in range(1, 101):\n",
    "    if i%12 == 0 and i%8 == 0:\n",
    "        print(i)"
   ]
  },
  {
   "cell_type": "markdown",
   "metadata": {},
   "source": [
    "WAP to create a billing system at supermarket."
   ]
  },
  {
   "cell_type": "code",
   "execution_count": 19,
   "metadata": {},
   "outputs": [
    {
     "name": "stdout",
     "output_type": "stream",
     "text": [
      "Enter amount and quantity\n",
      "Enter amount and quantity\n",
      "------------------------------\n",
      "Name:  cftjv\n",
      "Amount to be paid:  700.0\n",
      "------------------------------\n",
      "******Visit Again******\n"
     ]
    }
   ],
   "source": [
    "while True:\n",
    "    name =input('Enter customer name: ')\n",
    "    total = 0\n",
    "    while True:\n",
    "        amount = float(input('Enter amount: '))\n",
    "        quantity = float(input('Enter quantity: '))\n",
    "        total += amount*quantity\n",
    "        repeat = input('Do yopu want to add more items?(Y/N)')\n",
    "        if repeat == 'N':\n",
    "            break\n",
    "    print('-'*30)\n",
    "    print('Name: ', name)\n",
    "    print('Amount to be paid: ', total)\n",
    "    print('-'*30)\n",
    "    print('******Visit Again******')\n",
    "\n",
    "    repeat1 = input('Do you want to go for next Customer?(Y/N)')\n",
    "    if repeat1 == 'N':\n",
    "        break"
   ]
  },
  {
   "cell_type": "markdown",
   "metadata": {},
   "source": [
    "a = \"Why fit in, When you are Born to Stand Out!\"\n",
    "1. WAP to find the length of the following string.\n",
    "2. WAP to check how many time alphabate o is occurring.\n",
    "3. WAP to convert the whole string into lower and upper cases.\n",
    "4. WAP to convert the following string into a title.\n",
    "5. WAP to find the index number of \"fit in\"."
   ]
  },
  {
   "cell_type": "code",
   "execution_count": 22,
   "metadata": {},
   "outputs": [
    {
     "name": "stdout",
     "output_type": "stream",
     "text": [
      "43\n"
     ]
    }
   ],
   "source": [
    "#1\n",
    "a = \"Why fit in, When you are Born to Stand Out!\"\n",
    "l = len(a)\n",
    "print(l)"
   ]
  },
  {
   "cell_type": "code",
   "execution_count": 24,
   "metadata": {},
   "outputs": [
    {
     "data": {
      "text/plain": [
       "3"
      ]
     },
     "execution_count": 24,
     "metadata": {},
     "output_type": "execute_result"
    }
   ],
   "source": [
    "#2\n",
    "c = a.count('o')\n",
    "c"
   ]
  },
  {
   "cell_type": "code",
   "execution_count": 25,
   "metadata": {},
   "outputs": [
    {
     "name": "stdout",
     "output_type": "stream",
     "text": [
      "why fit in, when you are born to stand out!\n",
      "WHY FIT IN, WHEN YOU ARE BORN TO STAND OUT!\n"
     ]
    }
   ],
   "source": [
    "#3\n",
    "a_l = a.lower()\n",
    "a_u = a.upper()\n",
    "\n",
    "print(a_l)\n",
    "print(a_u)"
   ]
  },
  {
   "cell_type": "code",
   "execution_count": 26,
   "metadata": {},
   "outputs": [
    {
     "name": "stdout",
     "output_type": "stream",
     "text": [
      "Why Fit In, When You Are Born To Stand Out!\n"
     ]
    }
   ],
   "source": [
    "t = a.title()\n",
    "print(t)"
   ]
  },
  {
   "cell_type": "code",
   "execution_count": 27,
   "metadata": {},
   "outputs": [
    {
     "data": {
      "text/plain": [
       "4"
      ]
     },
     "execution_count": 27,
     "metadata": {},
     "output_type": "execute_result"
    }
   ],
   "source": [
    "i = a.find(\"fit in\")\n",
    "i"
   ]
  }
 ],
 "metadata": {
  "kernelspec": {
   "display_name": "Python 3",
   "language": "python",
   "name": "python3"
  },
  "language_info": {
   "codemirror_mode": {
    "name": "ipython",
    "version": 3
   },
   "file_extension": ".py",
   "mimetype": "text/x-python",
   "name": "python",
   "nbconvert_exporter": "python",
   "pygments_lexer": "ipython3",
   "version": "3.12.1"
  }
 },
 "nbformat": 4,
 "nbformat_minor": 2
}
