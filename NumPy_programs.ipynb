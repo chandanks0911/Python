{
 "cells": [
  {
   "cell_type": "code",
   "execution_count": 28,
   "metadata": {},
   "outputs": [
    {
     "name": "stdout",
     "output_type": "stream",
     "text": [
      "[200 400 600]\n"
     ]
    }
   ],
   "source": [
    "import numpy as np\n",
    "\n",
    "a = np.array([10, 20, 30])\n",
    "print(a*20)"
   ]
  },
  {
   "cell_type": "code",
   "execution_count": 2,
   "metadata": {},
   "outputs": [
    {
     "name": "stdout",
     "output_type": "stream",
     "text": [
      "[10 20]\n"
     ]
    }
   ],
   "source": [
    "#slicing and indexing\n",
    "import numpy as np\n",
    "a = np.array([10, 20, 30])\n",
    "print(a[0:2])"
   ]
  },
  {
   "cell_type": "code",
   "execution_count": 13,
   "metadata": {},
   "outputs": [
    {
     "name": "stdout",
     "output_type": "stream",
     "text": [
      "[10 20 30 40]\n",
      "10\n",
      "[10 20]\n",
      "[[10 20 30 40]\n",
      " [50 60 70 80]]\n",
      "[[10 20]\n",
      " [50 60]]\n",
      "[[10 20 30]\n",
      " [50 60 70]]\n"
     ]
    }
   ],
   "source": [
    "b_arr = np.array([[10, 20, 30, 40], [50, 60, 70, 80]])\n",
    "print(b_arr[0])\n",
    "print(b_arr[0, 0])\n",
    "print(b_arr[0, :2])\n",
    "print(b_arr[0:2])\n",
    "print(b_arr[0:2, 0:2])\n",
    "print(b_arr[0:2, 0:3]) # we can't define diff. lenth"
   ]
  },
  {
   "cell_type": "code",
   "execution_count": 16,
   "metadata": {},
   "outputs": [
    {
     "name": "stdout",
     "output_type": "stream",
     "text": [
      "[60 80]\n"
     ]
    }
   ],
   "source": [
    "c_arr = np.array([[10, 20, 30, 40], [50, 60, 70, 80], [20, 40, 60, 80]])\n",
    "print(c_arr[2,2:])"
   ]
  },
  {
   "cell_type": "markdown",
   "metadata": {},
   "source": [
    "Attributes:\n",
    "Shape:-\n",
    "    It returns the shape of the array in terms of '(row, column)'.\n",
    "\n",
    "size:-\n",
    "    It returns the no. of elements present inside the array.\n",
    "\n",
    "ndim:-\n",
    "    It returns the dimension of the array.\n",
    "\n",
    "dtype:-\n",
    "    It returns the datatype of the elements that the array consists of.\n",
    "    \n",
    "len:-\n",
    "    It returns the no. of nested values inside the array.\n",
    "\n",
    "astype:-\n",
    "    It converts an array to different type.\n",
    "\n",
    "type:-\n",
    "    It returns the datatype of the variable."
   ]
  },
  {
   "cell_type": "code",
   "execution_count": 30,
   "metadata": {},
   "outputs": [
    {
     "name": "stdout",
     "output_type": "stream",
     "text": [
      "(3, 4)\n",
      "12\n",
      "2\n",
      "int32\n",
      "3\n",
      "[['10' '20' '30' '40']\n",
      " ['50' '60' '70' '80']\n",
      " ['20' '40' '60' '80']]\n",
      "<class 'numpy.ndarray'>\n"
     ]
    }
   ],
   "source": [
    "# Example\n",
    "\n",
    "arr1 = np.array([[10, 20, 30, 40], [50, 60, 70, 80], [20, 40, 60, 80]])\n",
    "print(np.shape(arr1))\n",
    "print(np.size(arr1))\n",
    "print(np.ndim(arr1))\n",
    "print(arr1.dtype)\n",
    "print(len(arr1))\n",
    "print(arr1.astype(str))\n",
    "print(type(arr1))"
   ]
  },
  {
   "cell_type": "markdown",
   "metadata": {},
   "source": [
    "Mathematical Operations and Functions:\n",
    "\n",
    "add():-\n",
    "    It adds one array with another array or any value.\n",
    "sustract():-\n",
    "    It substracts one array from another array or any value.\n",
    "multiply():-\n",
    "    It multiplys one array with another array or any value.\n",
    "div:-\n",
    "    It divides an array by another array or any value.\n",
    "pow():-\n",
    "    It returns the power(s) of an array.\n",
    "sqrt():-\n",
    "    It returns the square root of elements of an array."
   ]
  },
  {
   "cell_type": "code",
   "execution_count": 10,
   "metadata": {},
   "outputs": [
    {
     "name": "stdout",
     "output_type": "stream",
     "text": [
      "[8 5 4 9]\n",
      "[-6 -1  2  1]\n",
      "[ 7  6  3 20]\n",
      "[0.14285714 0.66666667 3.         1.25      ]\n",
      "[  1   8   3 625]\n",
      "[1.         1.41421356 1.73205081 2.23606798]\n"
     ]
    }
   ],
   "source": [
    "# Exapmple with 1D array\n",
    "\n",
    "a1 = np.array([1, 2, 3, 5])\n",
    "a2 = np.array([7, 3, 1, 4])\n",
    "\n",
    "print(np.add(a1, a2))\n",
    "print(np.subtract(a1, a2))\n",
    "print(np.multiply(a1, a2))\n",
    "print(np.divide(a1, a2))\n",
    "print(np.power(a1, a2))\n",
    "print(np.sqrt(a1))\n"
   ]
  },
  {
   "cell_type": "code",
   "execution_count": 9,
   "metadata": {},
   "outputs": [
    {
     "name": "stdout",
     "output_type": "stream",
     "text": [
      "[[4 5 7]\n",
      " [3 6 6]]\n",
      "[[-2  1  5]\n",
      " [ 1 -4  0]]\n",
      "[[3 6 6]\n",
      " [2 5 9]]\n",
      "[[0.33333333 1.5        6.        ]\n",
      " [2.         0.2        1.        ]]\n",
      "[[ 1  9  6]\n",
      " [ 2  1 27]]\n",
      "[[1.         1.73205081 2.44948974]\n",
      " [1.41421356 1.         1.73205081]]\n"
     ]
    }
   ],
   "source": [
    "# Exapmple with 2D array\n",
    "a3 = np.array([[1, 3, 6], [2, 1, 3]])\n",
    "a4 = np.array([[3, 2, 1], [1, 5, 3]])\n",
    "\n",
    "print(np.add(a3, a4))\n",
    "print(np.subtract(a3, a4))\n",
    "print(np.multiply(a3, a4))\n",
    "print(np.divide(a3, a4))\n",
    "print(np.power(a3, a4))\n",
    "print(np.sqrt(a3))"
   ]
  },
  {
   "cell_type": "markdown",
   "metadata": {},
   "source": [
    "Combining and splitting arrays:\n",
    "\n",
    "concatenate:-\n",
    "    It return an array by concatenating multiple arrays (horizontal/vertical).\n",
    "    by defaule it concates horizontally.\n",
    "hstack:-\n",
    "    It concats horizontally.\n",
    "vstack:-\n",
    "    It concats vertically.\n",
    "    "
   ]
  },
  {
   "cell_type": "code",
   "execution_count": 16,
   "metadata": {},
   "outputs": [
    {
     "name": "stdout",
     "output_type": "stream",
     "text": [
      "[1 2 3 5 7 3 1 4]\n",
      "[1 2 3 5 7 3 1 4]\n",
      "[[1 2 3 5]\n",
      " [7 3 1 4]]\n"
     ]
    }
   ],
   "source": [
    "#  Example with 1D array\n",
    "\n",
    "a5 = np.array([1, 2, 3, 5])\n",
    "a6 = np.array([7, 3, 1, 4])\n",
    "\n",
    "print(np.concatenate([a5,a6]))\n",
    "print(np.hstack([a5,a6]))\n",
    "print(np.vstack([a5,a6]))"
   ]
  },
  {
   "cell_type": "code",
   "execution_count": 24,
   "metadata": {},
   "outputs": [
    {
     "name": "stdout",
     "output_type": "stream",
     "text": [
      "[[1 3 6]\n",
      " [2 1 3]\n",
      " [3 2 1]\n",
      " [1 5 3]]\n",
      "[[1 3 6 3 2 1]\n",
      " [2 1 3 1 5 3]]\n",
      "[[1 3 6 3 2 1]\n",
      " [2 1 3 1 5 3]]\n",
      "[[1 3 6]\n",
      " [2 1 3]\n",
      " [3 2 1]\n",
      " [1 5 3]]\n"
     ]
    }
   ],
   "source": [
    "#  Example with 2D array\n",
    "\n",
    "a7 = np.array([[1, 3, 6], [2, 1, 3]])\n",
    "a8 = np.array([[3, 2, 1], [1, 5, 3]])\n",
    "\n",
    "print(np.concatenate([a7,a8]))\n",
    "print(np.concatenate([a7,a8], axis=1))\n",
    "print(np.hstack([a7,a8]))\n",
    "print(np.vstack([a7, a8]))"
   ]
  },
  {
   "cell_type": "markdown",
   "metadata": {},
   "source": [
    "Array split:-\n",
    "    To split an array into multiple parts, 'array_split()' is used."
   ]
  },
  {
   "cell_type": "code",
   "execution_count": 28,
   "metadata": {},
   "outputs": [
    {
     "name": "stdout",
     "output_type": "stream",
     "text": [
      "[array([1, 2, 3, 4]), array([5, 6, 7]), array([ 8,  9, 10])]\n",
      "[array([1, 2]), array([3, 4]), array([5, 6]), array([7, 8]), array([9]), array([10])]\n"
     ]
    }
   ],
   "source": [
    "a9 = np.array([1,2,3,4,5,6,7,8,9,10])\n",
    "a10 = np.array_split(a9,3)\n",
    "a11 = np.array_split(a9,6)\n",
    "print(a10)\n",
    "print(a11)"
   ]
  }
 ],
 "metadata": {
  "kernelspec": {
   "display_name": "Python 3",
   "language": "python",
   "name": "python3"
  },
  "language_info": {
   "codemirror_mode": {
    "name": "ipython",
    "version": 3
   },
   "file_extension": ".py",
   "mimetype": "text/x-python",
   "name": "python",
   "nbconvert_exporter": "python",
   "pygments_lexer": "ipython3",
   "version": "3.12.1"
  }
 },
 "nbformat": 4,
 "nbformat_minor": 2
}
