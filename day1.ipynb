{
 "cells": [
  {
   "cell_type": "markdown",
   "metadata": {},
   "source": [
    "Write a program to display a person's name, age and address in three different lines."
   ]
  },
  {
   "cell_type": "code",
   "execution_count": 1,
   "metadata": {},
   "outputs": [
    {
     "name": "stdout",
     "output_type": "stream",
     "text": [
      "Chandan\n",
      "23\n",
      "Ganjam, Odisha\n"
     ]
    }
   ],
   "source": [
    "name = 'Chandan'\n",
    "age = 23\n",
    "address = 'Ganjam, Odisha'\n",
    "print(name)\n",
    "print(age)\n",
    "print(address)"
   ]
  },
  {
   "cell_type": "markdown",
   "metadata": {},
   "source": [
    "Wraite a program to swap two variables."
   ]
  },
  {
   "cell_type": "code",
   "execution_count": 2,
   "metadata": {},
   "outputs": [
    {
     "name": "stdout",
     "output_type": "stream",
     "text": [
      "original value 10 20\n",
      "swapped variable 20 10\n"
     ]
    }
   ],
   "source": [
    "a = 10\n",
    "b = 20\n",
    "print('original value',a, b)\n",
    "temp = a\n",
    "a = b\n",
    "b = temp\n",
    "print('swapped variable',a, b)"
   ]
  },
  {
   "cell_type": "code",
   "execution_count": 3,
   "metadata": {},
   "outputs": [
    {
     "name": "stdout",
     "output_type": "stream",
     "text": [
      "original value 10 20\n",
      "swapped variable 20 10\n"
     ]
    }
   ],
   "source": [
    "a = 10\n",
    "b = 20\n",
    "print('original value',a, b)\n",
    "a,b = b,a\n",
    "print('swapped variable',a, b)"
   ]
  },
  {
   "cell_type": "markdown",
   "metadata": {},
   "source": [
    "WAP to concert a float into integer."
   ]
  },
  {
   "cell_type": "code",
   "execution_count": 4,
   "metadata": {},
   "outputs": [
    {
     "name": "stdout",
     "output_type": "stream",
     "text": [
      "5\n"
     ]
    }
   ],
   "source": [
    "float_num = 5.9\n",
    "print(int(float_num))"
   ]
  },
  {
   "cell_type": "markdown",
   "metadata": {},
   "source": [
    "WAP to take a details from a student for ID card and then print it in different lines."
   ]
  },
  {
   "cell_type": "code",
   "execution_count": 6,
   "metadata": {},
   "outputs": [
    {
     "name": "stdout",
     "output_type": "stream",
     "text": [
      "Student Identity Card\n",
      "Name Chandan\n",
      "Age 23\n",
      "Grade C\n",
      "Phone 6372923833\n",
      "Email chandankumarsahu409@gmail.com\n"
     ]
    }
   ],
   "source": [
    "name = input('Enter the name of the student: ')\n",
    "age = int(input('Enter the age of the student: '))\n",
    "grade = input('Enter the grade of the student: ')\n",
    "phone = input('Enter the phone of the student: ')\n",
    "email = input('Enter the email of the student: ')\n",
    "\n",
    "print('Student Identity Card')\n",
    "print('Name:', name)\n",
    "print('Age:', age)\n",
    "print('Grade:', grade)\n",
    "print('Phone:', phone)\n",
    "print('Email:', email)"
   ]
  },
  {
   "cell_type": "markdown",
   "metadata": {},
   "source": [
    "WAP to take an use inpur as integer, them convert it into float."
   ]
  },
  {
   "cell_type": "code",
   "execution_count": 5,
   "metadata": {},
   "outputs": [
    {
     "name": "stdout",
     "output_type": "stream",
     "text": [
      "5.0\n"
     ]
    }
   ],
   "source": [
    "num = int(input('Enter an integer: '))\n",
    "num = float(num)\n",
    "print(num)"
   ]
  }
 ],
 "metadata": {
  "kernelspec": {
   "display_name": "Python 3",
   "language": "python",
   "name": "python3"
  },
  "language_info": {
   "codemirror_mode": {
    "name": "ipython",
    "version": 3
   },
   "file_extension": ".py",
   "mimetype": "text/x-python",
   "name": "python",
   "nbconvert_exporter": "python",
   "pygments_lexer": "ipython3",
   "version": "3.12.1"
  }
 },
 "nbformat": 4,
 "nbformat_minor": 2
}
